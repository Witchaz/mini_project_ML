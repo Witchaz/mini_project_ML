{
 "cells": [
  {
   "cell_type": "markdown",
   "metadata": {},
   "source": [
    "# **Prepare Data**"
   ]
  },
  {
   "cell_type": "code",
   "execution_count": 1,
   "metadata": {},
   "outputs": [],
   "source": [
    "import pandas as pd\n",
    "import numpy as np\n"
   ]
  },
  {
   "cell_type": "code",
   "execution_count": 2,
   "metadata": {},
   "outputs": [
    {
     "data": {
      "text/html": [
       "<div>\n",
       "<style scoped>\n",
       "    .dataframe tbody tr th:only-of-type {\n",
       "        vertical-align: middle;\n",
       "    }\n",
       "\n",
       "    .dataframe tbody tr th {\n",
       "        vertical-align: top;\n",
       "    }\n",
       "\n",
       "    .dataframe thead th {\n",
       "        text-align: right;\n",
       "    }\n",
       "</style>\n",
       "<table border=\"1\" class=\"dataframe\">\n",
       "  <thead>\n",
       "    <tr style=\"text-align: right;\">\n",
       "      <th></th>\n",
       "      <th>department_0</th>\n",
       "      <th>department_1</th>\n",
       "      <th>department_2</th>\n",
       "      <th>department_3</th>\n",
       "      <th>department_4</th>\n",
       "      <th>department_5</th>\n",
       "      <th>department_6</th>\n",
       "      <th>department_7</th>\n",
       "      <th>department_8</th>\n",
       "      <th>department_9</th>\n",
       "      <th>promoted</th>\n",
       "      <th>review</th>\n",
       "      <th>projects</th>\n",
       "      <th>salary</th>\n",
       "      <th>tenure</th>\n",
       "      <th>satisfaction</th>\n",
       "      <th>bonus</th>\n",
       "      <th>avg_hrs_month</th>\n",
       "      <th>left</th>\n",
       "    </tr>\n",
       "  </thead>\n",
       "  <tbody>\n",
       "    <tr>\n",
       "      <th>0</th>\n",
       "      <td>0.0</td>\n",
       "      <td>0.0</td>\n",
       "      <td>0.0</td>\n",
       "      <td>0.0</td>\n",
       "      <td>0.0</td>\n",
       "      <td>0.0</td>\n",
       "      <td>0.0</td>\n",
       "      <td>1.0</td>\n",
       "      <td>0.0</td>\n",
       "      <td>0.0</td>\n",
       "      <td>0</td>\n",
       "      <td>0.0</td>\n",
       "      <td>3</td>\n",
       "      <td>0</td>\n",
       "      <td>5.0</td>\n",
       "      <td>3.0</td>\n",
       "      <td>0</td>\n",
       "      <td>0.0</td>\n",
       "      <td>0</td>\n",
       "    </tr>\n",
       "    <tr>\n",
       "      <th>1</th>\n",
       "      <td>0.0</td>\n",
       "      <td>0.0</td>\n",
       "      <td>0.0</td>\n",
       "      <td>0.0</td>\n",
       "      <td>0.0</td>\n",
       "      <td>0.0</td>\n",
       "      <td>0.0</td>\n",
       "      <td>1.0</td>\n",
       "      <td>0.0</td>\n",
       "      <td>0.0</td>\n",
       "      <td>0</td>\n",
       "      <td>4.0</td>\n",
       "      <td>3</td>\n",
       "      <td>1</td>\n",
       "      <td>6.0</td>\n",
       "      <td>1.0</td>\n",
       "      <td>0</td>\n",
       "      <td>1.0</td>\n",
       "      <td>0</td>\n",
       "    </tr>\n",
       "    <tr>\n",
       "      <th>2</th>\n",
       "      <td>0.0</td>\n",
       "      <td>1.0</td>\n",
       "      <td>0.0</td>\n",
       "      <td>0.0</td>\n",
       "      <td>0.0</td>\n",
       "      <td>0.0</td>\n",
       "      <td>0.0</td>\n",
       "      <td>0.0</td>\n",
       "      <td>0.0</td>\n",
       "      <td>0.0</td>\n",
       "      <td>0</td>\n",
       "      <td>3.0</td>\n",
       "      <td>3</td>\n",
       "      <td>1</td>\n",
       "      <td>6.0</td>\n",
       "      <td>1.0</td>\n",
       "      <td>0</td>\n",
       "      <td>1.0</td>\n",
       "      <td>0</td>\n",
       "    </tr>\n",
       "    <tr>\n",
       "      <th>3</th>\n",
       "      <td>0.0</td>\n",
       "      <td>0.0</td>\n",
       "      <td>1.0</td>\n",
       "      <td>0.0</td>\n",
       "      <td>0.0</td>\n",
       "      <td>0.0</td>\n",
       "      <td>0.0</td>\n",
       "      <td>0.0</td>\n",
       "      <td>0.0</td>\n",
       "      <td>0.0</td>\n",
       "      <td>0</td>\n",
       "      <td>3.0</td>\n",
       "      <td>4</td>\n",
       "      <td>2</td>\n",
       "      <td>8.0</td>\n",
       "      <td>1.0</td>\n",
       "      <td>0</td>\n",
       "      <td>2.0</td>\n",
       "      <td>0</td>\n",
       "    </tr>\n",
       "    <tr>\n",
       "      <th>4</th>\n",
       "      <td>0.0</td>\n",
       "      <td>0.0</td>\n",
       "      <td>1.0</td>\n",
       "      <td>0.0</td>\n",
       "      <td>0.0</td>\n",
       "      <td>0.0</td>\n",
       "      <td>0.0</td>\n",
       "      <td>0.0</td>\n",
       "      <td>0.0</td>\n",
       "      <td>0.0</td>\n",
       "      <td>0</td>\n",
       "      <td>3.0</td>\n",
       "      <td>3</td>\n",
       "      <td>2</td>\n",
       "      <td>5.0</td>\n",
       "      <td>3.0</td>\n",
       "      <td>1</td>\n",
       "      <td>0.0</td>\n",
       "      <td>0</td>\n",
       "    </tr>\n",
       "    <tr>\n",
       "      <th>...</th>\n",
       "      <td>...</td>\n",
       "      <td>...</td>\n",
       "      <td>...</td>\n",
       "      <td>...</td>\n",
       "      <td>...</td>\n",
       "      <td>...</td>\n",
       "      <td>...</td>\n",
       "      <td>...</td>\n",
       "      <td>...</td>\n",
       "      <td>...</td>\n",
       "      <td>...</td>\n",
       "      <td>...</td>\n",
       "      <td>...</td>\n",
       "      <td>...</td>\n",
       "      <td>...</td>\n",
       "      <td>...</td>\n",
       "      <td>...</td>\n",
       "      <td>...</td>\n",
       "      <td>...</td>\n",
       "    </tr>\n",
       "    <tr>\n",
       "      <th>9535</th>\n",
       "      <td>0.0</td>\n",
       "      <td>0.0</td>\n",
       "      <td>0.0</td>\n",
       "      <td>0.0</td>\n",
       "      <td>0.0</td>\n",
       "      <td>0.0</td>\n",
       "      <td>0.0</td>\n",
       "      <td>1.0</td>\n",
       "      <td>0.0</td>\n",
       "      <td>0.0</td>\n",
       "      <td>0</td>\n",
       "      <td>1.0</td>\n",
       "      <td>4</td>\n",
       "      <td>1</td>\n",
       "      <td>8.0</td>\n",
       "      <td>2.0</td>\n",
       "      <td>0</td>\n",
       "      <td>2.0</td>\n",
       "      <td>1</td>\n",
       "    </tr>\n",
       "    <tr>\n",
       "      <th>9536</th>\n",
       "      <td>0.0</td>\n",
       "      <td>0.0</td>\n",
       "      <td>1.0</td>\n",
       "      <td>0.0</td>\n",
       "      <td>0.0</td>\n",
       "      <td>0.0</td>\n",
       "      <td>0.0</td>\n",
       "      <td>0.0</td>\n",
       "      <td>0.0</td>\n",
       "      <td>0.0</td>\n",
       "      <td>0.0</td>\n",
       "      <td>0</td>\n",
       "      <td>4.0</td>\n",
       "      <td>4</td>\n",
       "      <td>1</td>\n",
       "      <td>6.0</td>\n",
       "      <td>1.0</td>\n",
       "      <td>0</td>\n",
       "      <td>1.0</td>\n",
       "      <td>1</td>\n",
       "    </tr>\n",
       "    <tr>\n",
       "      <th>9528</th>\n",
       "      <td>0.0</td>\n",
       "      <td>0.0</td>\n",
       "      <td>1.0</td>\n",
       "      <td>0.0</td>\n",
       "      <td>0.0</td>\n",
       "      <td>0.0</td>\n",
       "      <td>0</td>\n",
       "      <td>3.0</td>\n",
       "      <td>3</td>\n",
       "      <td>6.0</td>\n",
       "      <td>1.0</td>\n",
       "      <td>1</td>\n",
       "      <td>0.0</td>\n",
       "      <td>1</td>\n",
       "    </tr>\n",
       "    <tr>\n",
       "      <th>9537</th>\n",
       "      <td>0.0</td>\n",
       "      <td>0.0</td>\n",
       "      <td>0.0</td>\n",
       "      <td>0.0</td>\n",
       "      <td>0.0</td>\n",
       "      <td>0.0</td>\n",
       "      <td>0.0</td>\n",
       "      <td>1.0</td>\n",
       "      <td>0.0</td>\n",
       "      <td>0.0</td>\n",
       "      <td>0</td>\n",
       "      <td>0.0</td>\n",
       "      <td>3</td>\n",
       "      <td>0</td>\n",
       "      <td>7.0</td>\n",
       "      <td>4.0</td>\n",
       "      <td>0</td>\n",
       "      <td>1.0</td>\n",
       "      <td>1</td>\n",
       "    </tr>\n",
       "    <tr>\n",
       "      <th>9538</th>\n",
       "      <td>0.0</td>\n",
       "      <td>0.0</td>\n",
       "      <td>0.0</td>\n",
       "      <td>0.0</td>\n",
       "      <td>0.0</td>\n",
       "      <td>0.0</td>\n",
       "      <td>0.0</td>\n",
       "      <td>0.0</td>\n",
       "      <td>1.0</td>\n",
       "      <td>0.0</td>\n",
       "      <td>0</td>\n",
       "      <td>1.0</td>\n",
       "      <td>4</td>\n",
       "      <td>1</td>\n",
       "      <td>8.0</td>\n",
       "      <td>3.0</td>\n",
       "      <td>1</td>\n",
       "      <td>2.0</td>\n",
       "      <td>1</td>\n",
       "    </tr>\n",
       "    <tr>\n",
       "      <th>9539</th>\n",
       "      <td>0.0</td>\n",
       "      <td>0.0</td>\n",
       "      <td>1.0</td>\n",
       "      <td>0.0</td>\n",
       "      <td>0.0</td>\n",
       "      <td>0.0</td>\n",
       "      <td>0.0</td>\n",
       "      <td>0.0</td>\n",
       "      <td>0.0</td>\n",
       "      <td>0.0</td>\n",
       "      <td>0</td>\n",
       "      <td>1.0</td>\n",
       "      <td>3</td>\n",
       "      <td>0</td>\n",
       "      <td>7.0</td>\n",
       "      <td>4.0</td>\n",
       "      <td>1</td>\n",
       "      <td>1.0</td>\n",
       "      <td>1</td>\n",
       "    </tr>\n",
       "  </tbody>\n",
       "</table>\n",
       "<p>9540 rows × 19 columns</p>\n",
       "</div>"
      ],
      "text/plain": [
       "      department_0  department_1  department_2  department_3  department_4  \\\n",
       "0              0.0           0.0           0.0           0.0           0.0   \n",
       "1              0.0           0.0           0.0           0.0           0.0   \n",
       "2              0.0           1.0           0.0           0.0           0.0   \n",
       "3              0.0           0.0           1.0           0.0           0.0   \n",
       "4              0.0           0.0           1.0           0.0           0.0   \n",
       "...            ...           ...           ...           ...           ...   \n",
       "9535           0.0           0.0           0.0           0.0           0.0   \n",
       "9536           0.0           0.0           1.0           0.0           0.0   \n",
       "9537           0.0           0.0           0.0           0.0           0.0   \n",
       "9538           0.0           0.0           0.0           0.0           0.0   \n",
       "9539           0.0           0.0           1.0           0.0           0.0   \n",
       "\n",
       "      department_5  department_6  department_7  department_8  department_9  \\\n",
       "0              0.0           0.0           1.0           0.0           0.0   \n",
       "1              0.0           0.0           1.0           0.0           0.0   \n",
       "2              0.0           0.0           0.0           0.0           0.0   \n",
       "3              0.0           0.0           0.0           0.0           0.0   \n",
       "4              0.0           0.0           0.0           0.0           0.0   \n",
       "...            ...           ...           ...           ...           ...   \n",
       "9535           0.0           0.0           1.0           0.0           0.0   \n",
       "9536           0.0           0.0           0.0           0.0           0.0   \n",
       "9537           0.0           0.0           1.0           0.0           0.0   \n",
       "9538           0.0           0.0           0.0           1.0           0.0   \n",
       "9539           0.0           0.0           0.0           0.0           0.0   \n",
       "\n",
       "      promoted  review  projects  salary  tenure  satisfaction  bonus  \\\n",
       "0            0     0.0         3       0     5.0           3.0      0   \n",
       "1            0     4.0         3       1     6.0           1.0      0   \n",
       "2            0     3.0         3       1     6.0           1.0      0   \n",
       "3            0     3.0         4       2     8.0           1.0      0   \n",
       "4            0     3.0         3       2     5.0           3.0      1   \n",
       "...        ...     ...       ...     ...     ...           ...    ...   \n",
       "9535         0     1.0         4       1     8.0           2.0      0   \n",
       "9536         0     4.0         3       1     8.0           3.0      0   \n",
       "9537         0     0.0         3       0     7.0           4.0      0   \n",
       "9538         0     1.0         4       1     8.0           3.0      1   \n",
       "9539         0     1.0         3       0     7.0           4.0      1   \n",
       "\n",
       "      avg_hrs_month  left  \n",
       "0               0.0     0  \n",
       "1               1.0     0  \n",
       "2               1.0     0  \n",
       "3               2.0     0  \n",
       "4               0.0     0  \n",
       "...             ...   ...  \n",
       "9535            2.0     1  \n",
       "9536            2.0     1  \n",
       "9537            1.0     1  \n",
       "9538            2.0     1  \n",
       "9539            1.0     1  \n",
       "\n",
       "[9532 rows x 19 columns]",
     "output_type": "execute_result"
    }
   ],
   "source": [
    "df = pd.read_csv(\"employee_churn_data_clearned.csv\")\n",
    "df"
   ]
  },
  {
   "cell_type": "code",
   "execution_count": 3,
   "metadata": {},
   "outputs": [],
   "source": [
    "from sklearn.model_selection import train_test_split, GridSearchCV,cross_val_score,KFold"
   ]
  },
  {
   "cell_type": "code",
   "execution_count": 4,
   "metadata": {},
   "outputs": [],
   "source": [
    "X = df.loc[:,df.columns != 'left']\n",
    "y = df['left']\n",
    "X_train ,X_test,y_train,y_test  = train_test_split(X,y,test_size=0.3,random_state=0)\n"
   ]
  },
  {
   "cell_type": "markdown",
   "metadata": {},
   "source": [
    "# **Voting Classifier**"
   ]
  },
  {
   "cell_type": "code",
   "execution_count": 5,
   "metadata": {},
   "outputs": [],
   "source": [
    "from sklearn.ensemble import VotingClassifier\n",
    "from sklearn.neighbors import KNeighborsClassifier\n",
    "from sklearn.svm import SVC"
   ]
  },
  {
   "cell_type": "markdown",
   "metadata": {},
   "source": [
    "## **Default parameters**"
   ]
  },
  {
   "cell_type": "code",
   "execution_count": 6,
   "metadata": {},
   "outputs": [
    {
     "name": "stdout",
     "output_type": "stream",
     "text": [
      "train score :  0.7866158313299816\n",
      "test score :  0.6953179594689028\n"
     ]
    }
   ],
   "source": [
    "clf1 = KNeighborsClassifier() \n",
    "clf2 = SVC()  \n",
    "\n",
    "\n",
    "voting_clf = VotingClassifier(\n",
    "    estimators=[('SVC', clf2), ('KNeighborsClassifier', clf1)],\n",
    "    voting='hard'\n",
    "    )\n",
    "\n",
    "score = cross_val_score(voting_clf, X_train, y_train, cv=5)\n",
    "print(\"train score : \", score.mean())\n",
    "\n",
    "voting_clf.fit(X_train, y_train)\n",
    "print(\"test score : \", voting_clf.score(X_test, y_test))"
   ]
  },
  {
   "cell_type": "markdown",
   "metadata": {},
   "source": [
    "## **With hyper parameters**"
   ]
  },
  {
   "cell_type": "code",
   "execution_count": 7,
   "metadata": {},
   "outputs": [],
   "source": [
    "import warnings\n",
    "warnings.filterwarnings('ignore')"
   ]
  },
  {
   "cell_type": "code",
   "execution_count": 8,
   "metadata": {},
   "outputs": [],
   "source": [
    "grid = {\n",
    "    # \"n_neighbors\": [5, 10, 20],\n",
    "    \"n_neighbors\": [20],\n",
    "    \"algorithm\": ['auto'],\n",
    "    # \"leaf_size\": [10, 20, 30, 40, 50],\n",
    "    \"leaf_size\": [10],\n",
    "    # \"p\": [0.01, 0.1, 1, 2, 10, 100],\n",
    "    \"p\": [0.01, 0.1],\n",
    "}\n",
    "gcv_knb = GridSearchCV(KNeighborsClassifier(), grid)\n",
    "\n",
    "grid = {\n",
    "    \"gamma\" : [\"scale\",\"auto\"],\n",
    "}\n",
    "\n",
    "gcv_svc = GridSearchCV(SVC(),grid)"
   ]
  },
  {
   "cell_type": "code",
   "execution_count": 9,
   "metadata": {},
   "outputs": [
    {
     "name": "stdout",
     "output_type": "stream",
     "text": [
      "train score :  0.8313859920608222\n",
      "test score :  0.8245981830887491\n"
     ]
    }
   ],
   "source": [
    "voting_clf = VotingClassifier(\n",
    "    estimators=[('gcv_svc', gcv_svc), ('gcv_knb', gcv_knb)],\n",
    "    voting='hard'\n",
    "    )\n",
    "\n",
    "score = cross_val_score(voting_clf, X_train, y_train, cv=5)\n",
    "\n",
    "print(\"train score : \", score.mean())\n",
    "voting_clf.fit(X_train, y_train)\n",
    "print(\"test score : \", voting_clf.score(X_test, y_test))"
   ]
  },
  {
   "cell_type": "markdown",
   "metadata": {},
   "source": [
    "# **Stacking Classifier**"
   ]
  },
  {
   "cell_type": "code",
<<<<<<< HEAD
<<<<<<< HEAD
   "execution_count": 49,
=======
   "execution_count": null,
>>>>>>> 2560b5779ea895f53c5b244f7a00bbdbeac510b3
=======
   "execution_count": 10,
>>>>>>> parent of 468688c (final)
   "metadata": {},
   "outputs": [],
   "source": [
    "from sklearn.ensemble import StackingClassifier"
   ]
  },
  {
   "cell_type": "markdown",
   "metadata": {},
   "source": [
    "## **default parameters**"
   ]
  },
  {
   "cell_type": "code",
<<<<<<< HEAD
<<<<<<< HEAD
   "execution_count": 50,
=======
   "execution_count": null,
>>>>>>> 2560b5779ea895f53c5b244f7a00bbdbeac510b3
=======
   "execution_count": 11,
>>>>>>> parent of 468688c (final)
   "metadata": {},
   "outputs": [
    {
     "name": "stdout",
     "output_type": "stream",
     "text": [
      "train score :  0.8168613335127498\n",
      "test score :  0.8151642208245982\n"
     ]
    }
   ],
   "source": [
    "stack_clf = StackingClassifier(\n",
    "    estimators=[('SVC', SVC()), ('KNeighborsClassifier', KNeighborsClassifier())],\n",
    "    stack_method='predict',\n",
    "    cv=10\n",
    "    )\n",
    "\n",
    "score = cross_val_score(stack_clf, X_train, y_train, cv=5)\n",
    "\n",
    "print(\"train score : \", score.mean())\n",
    "stack_clf.fit(X_train, y_train)\n",
    "print(\"test score : \", stack_clf.score(X_test, y_test))"
   ]
  },
  {
   "cell_type": "markdown",
   "metadata": {},
   "source": [
    "## **With hyper parameter**"
   ]
  },
  {
   "cell_type": "code",
<<<<<<< HEAD
<<<<<<< HEAD
   "execution_count": 51,
=======
   "execution_count": null,
>>>>>>> 2560b5779ea895f53c5b244f7a00bbdbeac510b3
=======
   "execution_count": 12,
>>>>>>> parent of 468688c (final)
   "metadata": {},
   "outputs": [],
   "source": [
    "grid = {\n",
    "    # \"n_neighbors\": [5, 10, 20],\n",
    "    \"n_neighbors\": [20],\n",
    "    \"algorithm\": ['auto'],\n",
    "    # \"leaf_size\": [10, 20, 30, 40, 50],\n",
    "    \"leaf_size\": [10],\n",
    "    # \"p\": [0.01, 0.1, 1, 2, 10, 100],\n",
    "    \"p\": [0.01, 0.1],\n",
    "}\n",
    "gcv_knb = GridSearchCV(KNeighborsClassifier(), grid)\n",
    "\n",
    "grid = {\n",
    "    \"gamma\" : [\"scale\",\"auto\"],\n",
    "}\n",
    "\n",
    "gcv_svc = GridSearchCV(SVC(),grid)"
   ]
  },
  {
   "cell_type": "code",
<<<<<<< HEAD
<<<<<<< HEAD
   "execution_count": 52,
=======
   "execution_count": null,
>>>>>>> 2560b5779ea895f53c5b244f7a00bbdbeac510b3
=======
   "execution_count": 13,
>>>>>>> parent of 468688c (final)
   "metadata": {},
   "outputs": [
    {
     "name": "stdout",
     "output_type": "stream",
     "text": [
      "train score :  0.8382744623113323\n",
      "test score :  0.8343815513626834\n"
     ]
    }
   ],
   "source": [
    "stack_clf = StackingClassifier(\n",
    "    estimators=[('gcv_svc', gcv_svc), ('gcv_knb', gcv_knb)],\n",
    "    stack_method='auto'\n",
    "    )\n",
    "\n",
    "score = cross_val_score(stack_clf, X_train, y_train, cv=5)\n",
    "\n",
    "print(\"train score : \", score.mean())\n",
    "stack_clf.fit(X_train, y_train)\n",
    "print(\"test score : \", stack_clf.score(X_test, y_test))"
   ]
  },
  {
   "cell_type": "markdown",
   "metadata": {},
   "source": [
    "# **Baseline** "
   ]
  },
  {
   "cell_type": "code",
<<<<<<< HEAD
<<<<<<< HEAD
   "execution_count": 53,
=======
   "execution_count": null,
>>>>>>> 2560b5779ea895f53c5b244f7a00bbdbeac510b3
=======
   "execution_count": 14,
>>>>>>> parent of 468688c (final)
   "metadata": {},
   "outputs": [
    {
     "data": {
      "text/plain": [
       "0.7136867325546571"
      ]
     },
     "execution_count": 14,
     "metadata": {},
     "output_type": "execute_result"
    }
   ],
   "source": [
    "from sklearn.dummy import DummyClassifier\n",
    "dummy_clf = DummyClassifier(strategy='most_frequent')\n",
    "dummy_clf.fit(X_train, y_train)\n",
    "dummy_clf.score(X_train, y_train)\n"
   ]
  },
  {
   "cell_type": "code",
<<<<<<< HEAD
<<<<<<< HEAD
   "execution_count": 54,
=======
   "execution_count": null,
>>>>>>> 2560b5779ea895f53c5b244f7a00bbdbeac510b3
=======
   "execution_count": 15,
>>>>>>> parent of 468688c (final)
   "metadata": {},
   "outputs": [
    {
     "data": {
      "text/plain": [
       "0.7136867325546571"
      ]
     },
     "execution_count": 15,
     "metadata": {},
     "output_type": "execute_result"
    }
   ],
   "source": [
    "dummy_clf = DummyClassifier(strategy='prior')\n",
    "dummy_clf.fit(X_train, y_train)\n",
    "dummy_clf.score(X_train, y_train)"
   ]
  },
  {
   "cell_type": "code",
<<<<<<< HEAD
<<<<<<< HEAD
   "execution_count": 55,
=======
   "execution_count": null,
>>>>>>> 2560b5779ea895f53c5b244f7a00bbdbeac510b3
=======
   "execution_count": 16,
>>>>>>> parent of 468688c (final)
   "metadata": {},
   "outputs": [
    {
     "data": {
      "text/plain": [
       "0.5847559149445942"
      ]
     },
     "execution_count": 16,
     "metadata": {},
     "output_type": "execute_result"
    }
   ],
   "source": [
    "dummy_clf = DummyClassifier(strategy='stratified')\n",
    "dummy_clf.fit(X_train, y_train)\n",
    "dummy_clf.score(X_train, y_train)"
   ]
  },
  {
   "cell_type": "code",
<<<<<<< HEAD
<<<<<<< HEAD
   "execution_count": 56,
=======
   "execution_count": null,
>>>>>>> 2560b5779ea895f53c5b244f7a00bbdbeac510b3
=======
   "execution_count": 17,
>>>>>>> parent of 468688c (final)
   "metadata": {},
   "outputs": [
    {
     "data": {
      "text/plain": [
       "0.4916142557651992"
      ]
     },
     "execution_count": 17,
     "metadata": {},
     "output_type": "execute_result"
    }
   ],
   "source": [
    "dummy_clf = DummyClassifier(strategy='uniform')\n",
    "dummy_clf.fit(X_train, y_train)\n",
    "dummy_clf.score(X_train, y_train)"
   ]
  },
  {
   "cell_type": "code",
   "execution_count": 18,
   "metadata": {},
   "outputs": [
    {
     "name": "stdout",
     "output_type": "stream",
     "text": [
      "Collecting nbconvert\n",
      "  Downloading nbconvert-7.14.2-py3-none-any.whl.metadata (7.7 kB)\n",
      "Collecting beautifulsoup4 (from nbconvert)\n",
      "  Downloading beautifulsoup4-4.12.3-py3-none-any.whl.metadata (3.8 kB)\n",
      "Collecting bleach!=5.0.0 (from nbconvert)\n",
      "  Downloading bleach-6.1.0-py3-none-any.whl.metadata (30 kB)\n",
      "Collecting defusedxml (from nbconvert)\n",
      "  Downloading defusedxml-0.7.1-py2.py3-none-any.whl (25 kB)\n",
      "Collecting jinja2>=3.0 (from nbconvert)\n",
      "  Downloading Jinja2-3.1.3-py3-none-any.whl.metadata (3.3 kB)\n",
      "Requirement already satisfied: jupyter-core>=4.7 in d:\\programming\\ml\\.venv\\lib\\site-packages (from nbconvert) (5.5.1)\n",
      "Collecting jupyterlab-pygments (from nbconvert)\n",
      "  Downloading jupyterlab_pygments-0.3.0-py3-none-any.whl.metadata (4.4 kB)\n",
      "Requirement already satisfied: markupsafe>=2.0 in d:\\programming\\ml\\.venv\\lib\\site-packages (from nbconvert) (2.1.3)\n",
      "Collecting mistune<4,>=2.0.3 (from nbconvert)\n",
      "  Downloading mistune-3.0.2-py3-none-any.whl.metadata (1.7 kB)\n",
      "Collecting nbclient>=0.5.0 (from nbconvert)\n",
      "  Downloading nbclient-0.9.0-py3-none-any.whl.metadata (7.8 kB)\n",
      "Collecting nbformat>=5.7 (from nbconvert)\n",
      "  Downloading nbformat-5.9.2-py3-none-any.whl.metadata (3.4 kB)\n",
      "Requirement already satisfied: packaging in d:\\programming\\ml\\.venv\\lib\\site-packages (from nbconvert) (23.2)\n",
      "Collecting pandocfilters>=1.4.1 (from nbconvert)\n",
      "  Downloading pandocfilters-1.5.1-py2.py3-none-any.whl.metadata (9.0 kB)\n",
      "Requirement already satisfied: pygments>=2.4.1 in d:\\programming\\ml\\.venv\\lib\\site-packages (from nbconvert) (2.17.2)\n",
      "Collecting tinycss2 (from nbconvert)\n",
      "  Downloading tinycss2-1.2.1-py3-none-any.whl (21 kB)\n",
      "Requirement already satisfied: traitlets>=5.1 in d:\\programming\\ml\\.venv\\lib\\site-packages (from nbconvert) (5.14.0)\n",
      "Requirement already satisfied: six>=1.9.0 in d:\\programming\\ml\\.venv\\lib\\site-packages (from bleach!=5.0.0->nbconvert) (1.16.0)\n",
      "Collecting webencodings (from bleach!=5.0.0->nbconvert)\n",
      "  Downloading webencodings-0.5.1-py2.py3-none-any.whl (11 kB)\n",
      "Requirement already satisfied: platformdirs>=2.5 in d:\\programming\\ml\\.venv\\lib\\site-packages (from jupyter-core>=4.7->nbconvert) (4.1.0)\n",
      "Requirement already satisfied: pywin32>=300 in d:\\programming\\ml\\.venv\\lib\\site-packages (from jupyter-core>=4.7->nbconvert) (306)\n",
      "Requirement already satisfied: jupyter-client>=6.1.12 in d:\\programming\\ml\\.venv\\lib\\site-packages (from nbclient>=0.5.0->nbconvert) (8.6.0)\n",
      "Collecting fastjsonschema (from nbformat>=5.7->nbconvert)\n",
      "  Downloading fastjsonschema-2.19.1-py3-none-any.whl.metadata (2.1 kB)\n",
      "Collecting jsonschema>=2.6 (from nbformat>=5.7->nbconvert)\n",
      "  Downloading jsonschema-4.21.1-py3-none-any.whl.metadata (7.8 kB)\n",
      "Collecting soupsieve>1.2 (from beautifulsoup4->nbconvert)\n",
      "  Downloading soupsieve-2.5-py3-none-any.whl.metadata (4.7 kB)\n",
      "Collecting attrs>=22.2.0 (from jsonschema>=2.6->nbformat>=5.7->nbconvert)\n",
      "  Downloading attrs-23.2.0-py3-none-any.whl.metadata (9.5 kB)\n",
      "Collecting jsonschema-specifications>=2023.03.6 (from jsonschema>=2.6->nbformat>=5.7->nbconvert)\n",
      "  Downloading jsonschema_specifications-2023.12.1-py3-none-any.whl.metadata (3.0 kB)\n",
      "Collecting referencing>=0.28.4 (from jsonschema>=2.6->nbformat>=5.7->nbconvert)\n",
      "  Downloading referencing-0.32.1-py3-none-any.whl.metadata (2.7 kB)\n",
      "Collecting rpds-py>=0.7.1 (from jsonschema>=2.6->nbformat>=5.7->nbconvert)\n",
      "  Downloading rpds_py-0.17.1-cp311-none-win_amd64.whl.metadata (4.2 kB)\n",
      "Requirement already satisfied: python-dateutil>=2.8.2 in d:\\programming\\ml\\.venv\\lib\\site-packages (from jupyter-client>=6.1.12->nbclient>=0.5.0->nbconvert) (2.8.2)\n",
      "Requirement already satisfied: pyzmq>=23.0 in d:\\programming\\ml\\.venv\\lib\\site-packages (from jupyter-client>=6.1.12->nbclient>=0.5.0->nbconvert) (25.1.2)\n",
      "Requirement already satisfied: tornado>=6.2 in d:\\programming\\ml\\.venv\\lib\\site-packages (from jupyter-client>=6.1.12->nbclient>=0.5.0->nbconvert) (6.4)\n",
      "Downloading nbconvert-7.14.2-py3-none-any.whl (256 kB)\n",
      "   ---------------------------------------- 0.0/256.4 kB ? eta -:--:--\n",
      "   ----------- ---------------------------- 71.7/256.4 kB 1.9 MB/s eta 0:00:01\n",
      "   ------------------------------ --------- 194.6/256.4 kB 2.9 MB/s eta 0:00:01\n",
      "   ------------------------------- -------- 204.8/256.4 kB 1.6 MB/s eta 0:00:01\n",
      "   ---------------------------------------- 256.4/256.4 kB 1.6 MB/s eta 0:00:00\n",
      "Downloading bleach-6.1.0-py3-none-any.whl (162 kB)\n",
      "   ---------------------------------------- 0.0/162.8 kB ? eta -:--:--\n",
      "   --------------------------- ------------ 112.6/162.8 kB 3.3 MB/s eta 0:00:01\n",
      "   ---------------------------------------- 162.8/162.8 kB 2.5 MB/s eta 0:00:00\n",
      "Downloading Jinja2-3.1.3-py3-none-any.whl (133 kB)\n",
      "   ---------------------------------------- 0.0/133.2 kB ? eta -:--:--\n",
      "   --------------------------------- ------ 112.6/133.2 kB 3.3 MB/s eta 0:00:01\n",
      "   ---------------------------------------- 133.2/133.2 kB 2.0 MB/s eta 0:00:00\n",
      "Downloading mistune-3.0.2-py3-none-any.whl (47 kB)\n",
      "   ---------------------------------------- 0.0/48.0 kB ? eta -:--:--\n",
      "   ---------------------------------------- 48.0/48.0 kB ? eta 0:00:00\n",
      "Downloading nbclient-0.9.0-py3-none-any.whl (24 kB)\n",
      "Downloading nbformat-5.9.2-py3-none-any.whl (77 kB)\n",
      "   ---------------------------------------- 0.0/77.6 kB ? eta -:--:--\n",
      "   ---------------------------------------- 77.6/77.6 kB 4.2 MB/s eta 0:00:00\n",
      "Downloading pandocfilters-1.5.1-py2.py3-none-any.whl (8.7 kB)\n",
      "Downloading beautifulsoup4-4.12.3-py3-none-any.whl (147 kB)\n",
      "   ---------------------------------------- 0.0/147.9 kB ? eta -:--:--\n",
      "   ---------------- ----------------------- 61.4/147.9 kB 1.7 MB/s eta 0:00:01\n",
      "   ------------------ -------------------- 71.7/147.9 kB 991.0 kB/s eta 0:00:01\n",
      "   ---------------------------------------- 147.9/147.9 kB 1.1 MB/s eta 0:00:00\n",
      "Downloading jupyterlab_pygments-0.3.0-py3-none-any.whl (15 kB)\n",
      "Downloading jsonschema-4.21.1-py3-none-any.whl (85 kB)\n",
      "   ---------------------------------------- 0.0/85.5 kB ? eta -:--:--\n",
      "   ------------------- -------------------- 41.0/85.5 kB 1.9 MB/s eta 0:00:01\n",
      "   ---------------------------------------- 85.5/85.5 kB 1.6 MB/s eta 0:00:00\n",
      "Downloading soupsieve-2.5-py3-none-any.whl (36 kB)\n",
      "Downloading fastjsonschema-2.19.1-py3-none-any.whl (23 kB)\n",
      "Downloading attrs-23.2.0-py3-none-any.whl (60 kB)\n",
      "   ---------------------------------------- 0.0/60.8 kB ? eta -:--:--\n",
      "   ---------------------------------------- 60.8/60.8 kB 3.2 MB/s eta 0:00:00\n",
      "Downloading jsonschema_specifications-2023.12.1-py3-none-any.whl (18 kB)\n",
      "Downloading referencing-0.32.1-py3-none-any.whl (26 kB)\n",
      "Downloading rpds_py-0.17.1-cp311-none-win_amd64.whl (205 kB)\n",
      "   ---------------------------------------- 0.0/205.9 kB ? eta -:--:--\n",
      "   ------- -------------------------------- 41.0/205.9 kB 1.9 MB/s eta 0:00:01\n",
      "   --------------------------------- ------ 174.1/205.9 kB 2.6 MB/s eta 0:00:01\n",
      "   ---------------------------------------- 205.9/205.9 kB 2.5 MB/s eta 0:00:00\n",
      "Installing collected packages: webencodings, fastjsonschema, tinycss2, soupsieve, rpds-py, pandocfilters, mistune, jupyterlab-pygments, jinja2, defusedxml, bleach, attrs, referencing, beautifulsoup4, jsonschema-specifications, jsonschema, nbformat, nbclient, nbconvert\n",
      "Successfully installed attrs-23.2.0 beautifulsoup4-4.12.3 bleach-6.1.0 defusedxml-0.7.1 fastjsonschema-2.19.1 jinja2-3.1.3 jsonschema-4.21.1 jsonschema-specifications-2023.12.1 jupyterlab-pygments-0.3.0 mistune-3.0.2 nbclient-0.9.0 nbconvert-7.14.2 nbformat-5.9.2 pandocfilters-1.5.1 referencing-0.32.1 rpds-py-0.17.1 soupsieve-2.5 tinycss2-1.2.1 webencodings-0.5.1\n",
      "Note: you may need to restart the kernel to use updated packages.\n"
     ]
    }
   ],
   "source": [
    "%pip install nbconvert"
   ]
  },
  {
   "cell_type": "code",
   "execution_count": null,
   "metadata": {},
   "outputs": [],
   "source": []
  }
 ],
 "metadata": {
  "kernelspec": {
   "display_name": ".venv",
   "language": "python",
   "name": "python3"
  },
  "language_info": {
   "codemirror_mode": {
    "name": "ipython",
    "version": 3
   },
   "file_extension": ".py",
   "mimetype": "text/x-python",
   "name": "python",
   "nbconvert_exporter": "python",
   "pygments_lexer": "ipython3",
   "version": "3.11.2"
  }
 },
 "nbformat": 4,
 "nbformat_minor": 2
}
