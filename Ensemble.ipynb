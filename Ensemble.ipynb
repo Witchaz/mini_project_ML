{
 "cells": [
  {
   "cell_type": "markdown",
   "metadata": {},
   "source": [
    "# **Prepare Data**"
   ]
  },
  {
   "cell_type": "code",
   "execution_count": 24,
   "metadata": {},
   "outputs": [],
   "source": [
    "import pandas as pd\n",
    "import numpy as np\n"
   ]
  },
  {
   "cell_type": "code",
   "execution_count": 25,
   "metadata": {},
   "outputs": [
    {
     "data": {
      "text/html": [
       "<div>\n",
       "<style scoped>\n",
       "    .dataframe tbody tr th:only-of-type {\n",
       "        vertical-align: middle;\n",
       "    }\n",
       "\n",
       "    .dataframe tbody tr th {\n",
       "        vertical-align: top;\n",
       "    }\n",
       "\n",
       "    .dataframe thead th {\n",
       "        text-align: right;\n",
       "    }\n",
       "</style>\n",
       "<table border=\"1\" class=\"dataframe\">\n",
       "  <thead>\n",
       "    <tr style=\"text-align: right;\">\n",
       "      <th></th>\n",
       "      <th>department_0</th>\n",
       "      <th>department_1</th>\n",
       "      <th>department_2</th>\n",
       "      <th>department_3</th>\n",
       "      <th>department_4</th>\n",
       "      <th>department_5</th>\n",
       "      <th>department_6</th>\n",
       "      <th>department_7</th>\n",
       "      <th>department_8</th>\n",
       "      <th>department_9</th>\n",
       "      <th>promoted</th>\n",
       "      <th>review</th>\n",
       "      <th>projects</th>\n",
       "      <th>salary</th>\n",
       "      <th>tenure</th>\n",
       "      <th>satisfaction</th>\n",
       "      <th>bonus</th>\n",
       "      <th>avg_hrs_month</th>\n",
       "      <th>left</th>\n",
       "    </tr>\n",
       "  </thead>\n",
       "  <tbody>\n",
       "    <tr>\n",
       "      <th>0</th>\n",
       "      <td>0.0</td>\n",
       "      <td>0.0</td>\n",
       "      <td>0.0</td>\n",
       "      <td>0.0</td>\n",
       "      <td>0.0</td>\n",
       "      <td>0.0</td>\n",
       "      <td>0.0</td>\n",
       "      <td>1.0</td>\n",
       "      <td>0.0</td>\n",
       "      <td>0.0</td>\n",
       "      <td>0</td>\n",
       "      <td>0.0</td>\n",
       "      <td>3</td>\n",
       "      <td>0</td>\n",
       "      <td>5.0</td>\n",
       "      <td>3.0</td>\n",
       "      <td>0</td>\n",
       "      <td>0.0</td>\n",
       "      <td>0</td>\n",
       "    </tr>\n",
       "    <tr>\n",
       "      <th>1</th>\n",
       "      <td>0.0</td>\n",
       "      <td>0.0</td>\n",
       "      <td>0.0</td>\n",
       "      <td>0.0</td>\n",
       "      <td>0.0</td>\n",
       "      <td>0.0</td>\n",
       "      <td>0.0</td>\n",
       "      <td>1.0</td>\n",
       "      <td>0.0</td>\n",
       "      <td>0.0</td>\n",
       "      <td>0</td>\n",
       "      <td>4.0</td>\n",
       "      <td>3</td>\n",
       "      <td>1</td>\n",
       "      <td>6.0</td>\n",
       "      <td>1.0</td>\n",
       "      <td>0</td>\n",
       "      <td>1.0</td>\n",
       "      <td>0</td>\n",
       "    </tr>\n",
       "    <tr>\n",
       "      <th>2</th>\n",
       "      <td>0.0</td>\n",
       "      <td>1.0</td>\n",
       "      <td>0.0</td>\n",
       "      <td>0.0</td>\n",
       "      <td>0.0</td>\n",
       "      <td>0.0</td>\n",
       "      <td>0.0</td>\n",
       "      <td>0.0</td>\n",
       "      <td>0.0</td>\n",
       "      <td>0.0</td>\n",
       "      <td>0</td>\n",
       "      <td>3.0</td>\n",
       "      <td>3</td>\n",
       "      <td>1</td>\n",
       "      <td>6.0</td>\n",
       "      <td>1.0</td>\n",
       "      <td>0</td>\n",
       "      <td>1.0</td>\n",
       "      <td>0</td>\n",
       "    </tr>\n",
       "    <tr>\n",
       "      <th>3</th>\n",
       "      <td>0.0</td>\n",
       "      <td>0.0</td>\n",
       "      <td>1.0</td>\n",
       "      <td>0.0</td>\n",
       "      <td>0.0</td>\n",
       "      <td>0.0</td>\n",
       "      <td>0.0</td>\n",
       "      <td>0.0</td>\n",
       "      <td>0.0</td>\n",
       "      <td>0.0</td>\n",
       "      <td>0</td>\n",
       "      <td>3.0</td>\n",
       "      <td>4</td>\n",
       "      <td>2</td>\n",
       "      <td>8.0</td>\n",
       "      <td>1.0</td>\n",
       "      <td>0</td>\n",
       "      <td>2.0</td>\n",
       "      <td>0</td>\n",
       "    </tr>\n",
       "    <tr>\n",
       "      <th>4</th>\n",
       "      <td>0.0</td>\n",
       "      <td>0.0</td>\n",
       "      <td>1.0</td>\n",
       "      <td>0.0</td>\n",
       "      <td>0.0</td>\n",
       "      <td>0.0</td>\n",
       "      <td>0.0</td>\n",
       "      <td>0.0</td>\n",
       "      <td>0.0</td>\n",
       "      <td>0.0</td>\n",
       "      <td>0</td>\n",
       "      <td>3.0</td>\n",
       "      <td>3</td>\n",
       "      <td>2</td>\n",
       "      <td>5.0</td>\n",
       "      <td>3.0</td>\n",
       "      <td>1</td>\n",
       "      <td>0.0</td>\n",
       "      <td>0</td>\n",
       "    </tr>\n",
       "    <tr>\n",
       "      <th>...</th>\n",
       "      <td>...</td>\n",
       "      <td>...</td>\n",
       "      <td>...</td>\n",
       "      <td>...</td>\n",
       "      <td>...</td>\n",
       "      <td>...</td>\n",
       "      <td>...</td>\n",
       "      <td>...</td>\n",
       "      <td>...</td>\n",
       "      <td>...</td>\n",
       "      <td>...</td>\n",
       "      <td>...</td>\n",
       "      <td>...</td>\n",
       "      <td>...</td>\n",
       "      <td>...</td>\n",
       "      <td>...</td>\n",
       "      <td>...</td>\n",
       "      <td>...</td>\n",
       "      <td>...</td>\n",
       "    </tr>\n",
       "    <tr>\n",
       "      <th>9535</th>\n",
       "      <td>0.0</td>\n",
       "      <td>0.0</td>\n",
       "      <td>0.0</td>\n",
       "      <td>0.0</td>\n",
       "      <td>0.0</td>\n",
       "      <td>0.0</td>\n",
       "      <td>0.0</td>\n",
       "      <td>1.0</td>\n",
       "      <td>0.0</td>\n",
       "      <td>0.0</td>\n",
       "      <td>0</td>\n",
       "      <td>1.0</td>\n",
       "      <td>4</td>\n",
       "      <td>1</td>\n",
       "      <td>8.0</td>\n",
       "      <td>2.0</td>\n",
       "      <td>0</td>\n",
       "      <td>2.0</td>\n",
       "      <td>1</td>\n",
       "    </tr>\n",
       "    <tr>\n",
       "      <th>9536</th>\n",
       "      <td>0.0</td>\n",
       "      <td>0.0</td>\n",
       "      <td>1.0</td>\n",
       "      <td>0.0</td>\n",
       "      <td>0.0</td>\n",
       "      <td>0.0</td>\n",
       "      <td>0.0</td>\n",
       "      <td>0.0</td>\n",
       "      <td>0.0</td>\n",
       "      <td>0.0</td>\n",
       "      <td>0</td>\n",
       "      <td>4.0</td>\n",
       "      <td>3</td>\n",
       "      <td>1</td>\n",
       "      <td>8.0</td>\n",
       "      <td>3.0</td>\n",
       "      <td>0</td>\n",
       "      <td>2.0</td>\n",
       "      <td>1</td>\n",
       "    </tr>\n",
       "    <tr>\n",
       "      <th>9537</th>\n",
       "      <td>0.0</td>\n",
       "      <td>0.0</td>\n",
       "      <td>0.0</td>\n",
       "      <td>0.0</td>\n",
       "      <td>0.0</td>\n",
       "      <td>0.0</td>\n",
       "      <td>0.0</td>\n",
       "      <td>1.0</td>\n",
       "      <td>0.0</td>\n",
       "      <td>0.0</td>\n",
       "      <td>0</td>\n",
       "      <td>0.0</td>\n",
       "      <td>3</td>\n",
       "      <td>0</td>\n",
       "      <td>7.0</td>\n",
       "      <td>4.0</td>\n",
       "      <td>0</td>\n",
       "      <td>1.0</td>\n",
       "      <td>1</td>\n",
       "    </tr>\n",
       "    <tr>\n",
       "      <th>9538</th>\n",
       "      <td>0.0</td>\n",
       "      <td>0.0</td>\n",
       "      <td>0.0</td>\n",
       "      <td>0.0</td>\n",
       "      <td>0.0</td>\n",
       "      <td>0.0</td>\n",
       "      <td>0.0</td>\n",
       "      <td>0.0</td>\n",
       "      <td>1.0</td>\n",
       "      <td>0.0</td>\n",
       "      <td>0</td>\n",
       "      <td>1.0</td>\n",
       "      <td>4</td>\n",
       "      <td>1</td>\n",
       "      <td>8.0</td>\n",
       "      <td>3.0</td>\n",
       "      <td>1</td>\n",
       "      <td>2.0</td>\n",
       "      <td>1</td>\n",
       "    </tr>\n",
       "    <tr>\n",
       "      <th>9539</th>\n",
       "      <td>0.0</td>\n",
       "      <td>0.0</td>\n",
       "      <td>1.0</td>\n",
       "      <td>0.0</td>\n",
       "      <td>0.0</td>\n",
       "      <td>0.0</td>\n",
       "      <td>0.0</td>\n",
       "      <td>0.0</td>\n",
       "      <td>0.0</td>\n",
       "      <td>0.0</td>\n",
       "      <td>0</td>\n",
       "      <td>1.0</td>\n",
       "      <td>3</td>\n",
       "      <td>0</td>\n",
       "      <td>7.0</td>\n",
       "      <td>4.0</td>\n",
       "      <td>1</td>\n",
       "      <td>1.0</td>\n",
       "      <td>1</td>\n",
       "    </tr>\n",
       "  </tbody>\n",
       "</table>\n",
       "<p>9540 rows × 19 columns</p>\n",
       "</div>"
      ],
      "text/plain": [
       "      department_0  department_1  department_2  department_3  department_4  \\\n",
       "0              0.0           0.0           0.0           0.0           0.0   \n",
       "1              0.0           0.0           0.0           0.0           0.0   \n",
       "2              0.0           1.0           0.0           0.0           0.0   \n",
       "3              0.0           0.0           1.0           0.0           0.0   \n",
       "4              0.0           0.0           1.0           0.0           0.0   \n",
       "...            ...           ...           ...           ...           ...   \n",
       "9535           0.0           0.0           0.0           0.0           0.0   \n",
       "9536           0.0           0.0           1.0           0.0           0.0   \n",
       "9537           0.0           0.0           0.0           0.0           0.0   \n",
       "9538           0.0           0.0           0.0           0.0           0.0   \n",
       "9539           0.0           0.0           1.0           0.0           0.0   \n",
       "\n",
       "      department_5  department_6  department_7  department_8  department_9  \\\n",
       "0              0.0           0.0           1.0           0.0           0.0   \n",
       "1              0.0           0.0           1.0           0.0           0.0   \n",
       "2              0.0           0.0           0.0           0.0           0.0   \n",
       "3              0.0           0.0           0.0           0.0           0.0   \n",
       "4              0.0           0.0           0.0           0.0           0.0   \n",
       "...            ...           ...           ...           ...           ...   \n",
       "9535           0.0           0.0           1.0           0.0           0.0   \n",
       "9536           0.0           0.0           0.0           0.0           0.0   \n",
       "9537           0.0           0.0           1.0           0.0           0.0   \n",
       "9538           0.0           0.0           0.0           1.0           0.0   \n",
       "9539           0.0           0.0           0.0           0.0           0.0   \n",
       "\n",
       "      promoted  review  projects  salary  tenure  satisfaction  bonus  \\\n",
       "0            0     0.0         3       0     5.0           3.0      0   \n",
       "1            0     4.0         3       1     6.0           1.0      0   \n",
       "2            0     3.0         3       1     6.0           1.0      0   \n",
       "3            0     3.0         4       2     8.0           1.0      0   \n",
       "4            0     3.0         3       2     5.0           3.0      1   \n",
       "...        ...     ...       ...     ...     ...           ...    ...   \n",
       "9535         0     1.0         4       1     8.0           2.0      0   \n",
       "9536         0     4.0         3       1     8.0           3.0      0   \n",
       "9537         0     0.0         3       0     7.0           4.0      0   \n",
       "9538         0     1.0         4       1     8.0           3.0      1   \n",
       "9539         0     1.0         3       0     7.0           4.0      1   \n",
       "\n",
       "      avg_hrs_month  left  \n",
       "0               0.0     0  \n",
       "1               1.0     0  \n",
       "2               1.0     0  \n",
       "3               2.0     0  \n",
       "4               0.0     0  \n",
       "...             ...   ...  \n",
       "9535            2.0     1  \n",
       "9536            2.0     1  \n",
       "9537            1.0     1  \n",
       "9538            2.0     1  \n",
       "9539            1.0     1  \n",
       "\n",
       "[9540 rows x 19 columns]"
      ]
     },
     "execution_count": 25,
     "metadata": {},
     "output_type": "execute_result"
    }
   ],
   "source": [
    "df = pd.read_csv(\"employee_churn_data_clearned.csv\")\n",
    "df"
   ]
  },
  {
   "cell_type": "code",
   "execution_count": 26,
   "metadata": {},
   "outputs": [],
   "source": [
    "from sklearn.model_selection import train_test_split, GridSearchCV,cross_val_score,KFold"
   ]
  },
  {
   "cell_type": "code",
   "execution_count": 27,
   "metadata": {},
   "outputs": [],
   "source": [
    "X = df.loc[:,df.columns != 'left']\n",
    "y = df['left']\n",
    "X_train ,X_test,y_train,y_test  = train_test_split(X,y,test_size=0.3,random_state=0)\n"
   ]
  },
  {
   "cell_type": "code",
   "execution_count": 28,
   "metadata": {},
   "outputs": [
    {
     "name": "stdout",
     "output_type": "stream",
     "text": [
      "Before\n",
      "left\n",
      "0    4766\n",
      "1    1912\n",
      "Name: count, dtype: int64\n",
      "left\n",
      "0    0.713687\n",
      "1    0.286313\n",
      "Name: proportion, dtype: float64\n",
      "=-==-==-==-==-==-==-==-==-==-=\n",
      "After\n",
      "left\n",
      "0    3243\n",
      "1    3243\n",
      "Name: count, dtype: int64\n",
      "left\n",
      "0    0.5\n",
      "1    0.5\n",
      "Name: proportion, dtype: float64\n"
     ]
    }
   ],
   "source": [
    "from imblearn.under_sampling import TomekLinks,EditedNearestNeighbours\n",
    "from imblearn.over_sampling import SMOTE\n",
    "\n",
    "print(f'Before')\n",
    "print(f'{y_train.value_counts()}')\n",
    "print(f'{y_train.value_counts(normalize=True)}')\n",
    "print('=-=' * 10 )\n",
    "tmk = TomekLinks(n_jobs=-1)\n",
    "X_train,y_train = tmk.fit_resample(X_train,y_train)\n",
    "enn = EditedNearestNeighbours()\n",
    "X_train,y_train = enn.fit_resample(X_train,y_train)\n",
    "smote = SMOTE(random_state=0)\n",
    "X_train,y_train = smote.fit_resample(X_train,y_train)\n",
    "\n",
    "print(f'After')\n",
    "print(f'{y_train.value_counts()}')\n",
    "print(f'{y_train.value_counts(normalize=True)}')"
   ]
  },
  {
   "cell_type": "markdown",
   "metadata": {},
   "source": [
    "# **Voting Classifier**"
   ]
  },
  {
   "cell_type": "code",
   "execution_count": 29,
   "metadata": {},
   "outputs": [],
   "source": [
    "from sklearn.ensemble import VotingClassifier\n",
    "from sklearn.neighbors import KNeighborsClassifier\n",
    "from sklearn.svm import SVC"
   ]
  },
  {
   "cell_type": "markdown",
   "metadata": {},
   "source": [
    "## **Default parameters**"
   ]
  },
  {
   "cell_type": "code",
   "execution_count": 30,
   "metadata": {},
   "outputs": [
    {
     "name": "stdout",
     "output_type": "stream",
     "text": [
      "train score :  0.8826711636311366\n",
      "test score :  0.8109713487071978\n"
     ]
    }
   ],
   "source": [
    "clf1 = KNeighborsClassifier() \n",
    "clf2 = SVC()  \n",
    "\n",
    "\n",
    "voting_clf = VotingClassifier(\n",
    "    estimators=[('SVC', clf2), ('KNeighborsClassifier', clf1)],\n",
    "    voting='hard'\n",
    "    )\n",
    "\n",
    "score = cross_val_score(voting_clf, X_train, y_train, cv=5)\n",
    "print(\"train score : \", score.mean())\n",
    "\n",
    "voting_clf.fit(X_train, y_train)\n",
    "print(\"test score : \", voting_clf.score(X_test, y_test))"
   ]
  },
  {
   "cell_type": "markdown",
   "metadata": {},
   "source": [
    "## **With hyper parameters**"
   ]
  },
  {
   "cell_type": "code",
   "execution_count": 31,
   "metadata": {},
   "outputs": [],
   "source": [
    "import warnings\n",
    "warnings.filterwarnings('ignore')"
   ]
  },
  {
   "cell_type": "code",
   "execution_count": 32,
   "metadata": {},
   "outputs": [],
   "source": [
    "grid = {\n",
    "    \"n_neighbors\": [20],\n",
    "    \"algorithm\": ['auto'],\n",
    "    \"leaf_size\": [10],\n",
    "    \"p\": [0.01, 0.1],\n",
    "}\n",
    "gcv_knb = GridSearchCV(KNeighborsClassifier(), grid)\n",
    "\n",
    "grid = {\n",
    "    \"gamma\" : [\"scale\",\"auto\"],\n",
    "}\n",
    "\n",
    "gcv_svc = GridSearchCV(SVC(),grid)"
   ]
  },
  {
   "cell_type": "code",
   "execution_count": 33,
   "metadata": {},
   "outputs": [
    {
     "name": "stdout",
     "output_type": "stream",
     "text": [
      "train score :  0.883750340064128\n",
      "test score :  0.8050314465408805\n"
     ]
    }
   ],
   "source": [
    "voting_clf = VotingClassifier(\n",
    "    estimators=[('gcv_svc', gcv_svc), ('gcv_knb', gcv_knb)],\n",
    "    voting='hard'\n",
    "    )\n",
    "\n",
    "score = cross_val_score(voting_clf, X_train, y_train, cv=5)\n",
    "\n",
    "print(\"train score : \", score.mean())\n",
    "voting_clf.fit(X_train, y_train)\n",
    "print(\"test score : \", voting_clf.score(X_test, y_test))"
   ]
  },
  {
   "cell_type": "markdown",
   "metadata": {},
   "source": [
    "# **Stacking Classifier**"
   ]
  },
  {
   "cell_type": "code",
   "execution_count": 34,
   "metadata": {},
   "outputs": [],
   "source": [
    "from sklearn.ensemble import StackingClassifier"
   ]
  },
  {
   "cell_type": "markdown",
   "metadata": {},
   "source": [
    "## **default parameters**"
   ]
  },
  {
   "cell_type": "code",
   "execution_count": 35,
   "metadata": {},
   "outputs": [
    {
     "name": "stdout",
     "output_type": "stream",
     "text": [
      "train score :  0.9085725860198895\n",
      "test score :  0.7788259958071279\n"
     ]
    }
   ],
   "source": [
    "stack_clf = StackingClassifier(\n",
    "    estimators=[('SVC', SVC()), ('KNeighborsClassifier', KNeighborsClassifier())],\n",
    "    stack_method='predict',\n",
    "    cv=10\n",
    "    )\n",
    "\n",
    "score = cross_val_score(stack_clf, X_train, y_train, cv=5)\n",
    "\n",
    "print(\"train score : \", score.mean())\n",
    "stack_clf.fit(X_train, y_train)\n",
    "print(\"test score : \", stack_clf.score(X_test, y_test))"
   ]
  },
  {
   "cell_type": "markdown",
   "metadata": {},
   "source": [
    "## **With hyper parameter**"
   ]
  },
  {
   "cell_type": "code",
   "execution_count": 36,
   "metadata": {},
   "outputs": [],
   "source": [
    "grid = {\n",
    "    \"n_neighbors\": [20],\n",
    "    \"algorithm\": ['auto'],\n",
    "    \"leaf_size\": [10],\n",
    "    \"p\": [0.01, 0.1],\n",
    "}\n",
    "gcv_knb = GridSearchCV(KNeighborsClassifier(), grid,n_jobs=-1)\n",
    "\n",
    "grid = {\n",
    "    \"gamma\" : [\"scale\",\"auto\"],\n",
    "}\n",
    "\n",
    "gcv_svc = GridSearchCV(SVC(),grid)"
   ]
  },
  {
   "cell_type": "code",
   "execution_count": 37,
   "metadata": {},
   "outputs": [
    {
     "name": "stdout",
     "output_type": "stream",
     "text": [
      "train score :  0.8903793630673131\n",
      "test score :  0.7816212438853948\n"
     ]
    }
   ],
   "source": [
    "stack_clf = StackingClassifier(\n",
    "    estimators=[('gcv_svc', gcv_svc), ('gcv_knb', gcv_knb)],\n",
    "    stack_method='auto'\n",
    "    )\n",
    "\n",
    "score = cross_val_score(stack_clf, X_train, y_train, cv=5)\n",
    "\n",
    "print(\"train score : \", score.mean())\n",
    "stack_clf.fit(X_train, y_train)\n",
    "print(\"test score : \", stack_clf.score(X_test, y_test))"
   ]
  },
  {
   "cell_type": "markdown",
   "metadata": {},
   "source": [
    "# **Baseline** "
   ]
  },
  {
   "cell_type": "code",
   "execution_count": 48,
   "metadata": {},
   "outputs": [],
   "source": [
    "from sklearn.metrics import classification_report"
   ]
  },
  {
   "cell_type": "code",
   "execution_count": 49,
   "metadata": {},
   "outputs": [
    {
     "name": "stdout",
     "output_type": "stream",
     "text": [
      "              precision    recall  f1-score   support\n",
      "\n",
      "           0       0.70      1.00      0.82      1990\n",
      "           1       0.00      0.00      0.00       872\n",
      "\n",
      "    accuracy                           0.70      2862\n",
      "   macro avg       0.35      0.50      0.41      2862\n",
      "weighted avg       0.48      0.70      0.57      2862\n",
      "\n"
     ]
    }
   ],
   "source": [
    "from sklearn.dummy import DummyClassifier\n",
    "dummy_clf = DummyClassifier(strategy='most_frequent')\n",
    "dummy_clf.fit(X_train, y_train)\n",
    "print(classification_report(y_test,dummy_clf.predict(X_test)))"
   ]
  },
  {
   "cell_type": "code",
   "execution_count": 50,
   "metadata": {},
   "outputs": [
    {
     "name": "stdout",
     "output_type": "stream",
     "text": [
      "              precision    recall  f1-score   support\n",
      "\n",
      "           0       0.70      1.00      0.82      1990\n",
      "           1       0.00      0.00      0.00       872\n",
      "\n",
      "    accuracy                           0.70      2862\n",
      "   macro avg       0.35      0.50      0.41      2862\n",
      "weighted avg       0.48      0.70      0.57      2862\n",
      "\n"
     ]
    }
   ],
   "source": [
    "dummy_clf = DummyClassifier(strategy='prior')\n",
    "dummy_clf.fit(X_train, y_train)\n",
    "print(classification_report(y_test,dummy_clf.predict(X_test)))"
   ]
  },
  {
   "cell_type": "code",
   "execution_count": 51,
   "metadata": {},
   "outputs": [
    {
     "name": "stdout",
     "output_type": "stream",
     "text": [
      "              precision    recall  f1-score   support\n",
      "\n",
      "           0       0.69      0.49      0.57      1990\n",
      "           1       0.30      0.49      0.37       872\n",
      "\n",
      "    accuracy                           0.49      2862\n",
      "   macro avg       0.49      0.49      0.47      2862\n",
      "weighted avg       0.57      0.49      0.51      2862\n",
      "\n"
     ]
    }
   ],
   "source": [
    "dummy_clf = DummyClassifier(strategy='stratified')\n",
    "dummy_clf.fit(X_train, y_train)\n",
    "print(classification_report(y_test,dummy_clf.predict(X_test)))"
   ]
  },
  {
   "cell_type": "code",
   "execution_count": 52,
   "metadata": {},
   "outputs": [
    {
     "name": "stdout",
     "output_type": "stream",
     "text": [
      "              precision    recall  f1-score   support\n",
      "\n",
      "           0       0.67      0.48      0.56      1990\n",
      "           1       0.28      0.46      0.35       872\n",
      "\n",
      "    accuracy                           0.47      2862\n",
      "   macro avg       0.47      0.47      0.45      2862\n",
      "weighted avg       0.55      0.47      0.49      2862\n",
      "\n"
     ]
    }
   ],
   "source": [
    "dummy_clf = DummyClassifier(strategy='uniform')\n",
    "dummy_clf.fit(X_train, y_train)\n",
    "print(classification_report(y_test,dummy_clf.predict(X_test)))"
   ]
  }
 ],
 "metadata": {
  "kernelspec": {
   "display_name": ".venv",
   "language": "python",
   "name": "python3"
  },
  "language_info": {
   "codemirror_mode": {
    "name": "ipython",
    "version": 3
   },
   "file_extension": ".py",
   "mimetype": "text/x-python",
   "name": "python",
   "nbconvert_exporter": "python",
   "pygments_lexer": "ipython3",
   "version": "3.12.1"
  }
 },
 "nbformat": 4,
 "nbformat_minor": 2
}
