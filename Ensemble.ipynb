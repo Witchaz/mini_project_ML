{
 "cells": [
  {
   "cell_type": "markdown",
   "metadata": {},
   "source": [
    "# **Prepare Data**"
   ]
  },
  {
   "cell_type": "code",
   "execution_count": 7,
   "metadata": {},
   "outputs": [],
   "source": [
    "import pandas as pd\n",
    "import numpy as np\n"
   ]
  },
  {
   "cell_type": "code",
   "execution_count": 8,
   "metadata": {},
   "outputs": [
    {
     "data": {
      "text/html": [
       "<div>\n",
       "<style scoped>\n",
       "    .dataframe tbody tr th:only-of-type {\n",
       "        vertical-align: middle;\n",
       "    }\n",
       "\n",
       "    .dataframe tbody tr th {\n",
       "        vertical-align: top;\n",
       "    }\n",
       "\n",
       "    .dataframe thead th {\n",
       "        text-align: right;\n",
       "    }\n",
       "</style>\n",
       "<table border=\"1\" class=\"dataframe\">\n",
       "  <thead>\n",
       "    <tr style=\"text-align: right;\">\n",
       "      <th></th>\n",
       "      <th>department_0</th>\n",
       "      <th>department_1</th>\n",
       "      <th>department_2</th>\n",
       "      <th>department_3</th>\n",
       "      <th>department_4</th>\n",
       "      <th>department_5</th>\n",
       "      <th>department_6</th>\n",
       "      <th>department_7</th>\n",
       "      <th>department_8</th>\n",
       "      <th>department_9</th>\n",
       "      <th>promoted</th>\n",
       "      <th>review</th>\n",
       "      <th>projects</th>\n",
       "      <th>salary</th>\n",
       "      <th>tenure</th>\n",
       "      <th>satisfaction</th>\n",
       "      <th>bonus</th>\n",
       "      <th>avg_hrs_month</th>\n",
       "      <th>left</th>\n",
       "    </tr>\n",
       "  </thead>\n",
       "  <tbody>\n",
       "    <tr>\n",
       "      <th>0</th>\n",
       "      <td>0.0</td>\n",
       "      <td>0.0</td>\n",
       "      <td>0.0</td>\n",
       "      <td>0.0</td>\n",
       "      <td>0.0</td>\n",
       "      <td>0.0</td>\n",
       "      <td>0.0</td>\n",
       "      <td>1.0</td>\n",
       "      <td>0.0</td>\n",
       "      <td>0.0</td>\n",
       "      <td>0</td>\n",
       "      <td>0.0</td>\n",
       "      <td>3</td>\n",
       "      <td>0</td>\n",
       "      <td>5.0</td>\n",
       "      <td>3.0</td>\n",
       "      <td>0</td>\n",
       "      <td>0.0</td>\n",
       "      <td>0</td>\n",
       "    </tr>\n",
       "    <tr>\n",
       "      <th>1</th>\n",
       "      <td>0.0</td>\n",
       "      <td>0.0</td>\n",
       "      <td>1.0</td>\n",
       "      <td>0.0</td>\n",
       "      <td>0.0</td>\n",
       "      <td>0.0</td>\n",
       "      <td>0.0</td>\n",
       "      <td>0.0</td>\n",
       "      <td>0.0</td>\n",
       "      <td>0.0</td>\n",
       "      <td>0</td>\n",
       "      <td>3.0</td>\n",
       "      <td>4</td>\n",
       "      <td>2</td>\n",
       "      <td>8.0</td>\n",
       "      <td>1.0</td>\n",
       "      <td>0</td>\n",
       "      <td>2.0</td>\n",
       "      <td>0</td>\n",
       "    </tr>\n",
       "    <tr>\n",
       "      <th>2</th>\n",
       "      <td>0.0</td>\n",
       "      <td>0.0</td>\n",
       "      <td>1.0</td>\n",
       "      <td>0.0</td>\n",
       "      <td>0.0</td>\n",
       "      <td>0.0</td>\n",
       "      <td>0.0</td>\n",
       "      <td>0.0</td>\n",
       "      <td>0.0</td>\n",
       "      <td>0.0</td>\n",
       "      <td>0</td>\n",
       "      <td>3.0</td>\n",
       "      <td>3</td>\n",
       "      <td>2</td>\n",
       "      <td>5.0</td>\n",
       "      <td>3.0</td>\n",
       "      <td>1</td>\n",
       "      <td>0.0</td>\n",
       "      <td>0</td>\n",
       "    </tr>\n",
       "    <tr>\n",
       "      <th>3</th>\n",
       "      <td>0.0</td>\n",
       "      <td>0.0</td>\n",
       "      <td>0.0</td>\n",
       "      <td>0.0</td>\n",
       "      <td>0.0</td>\n",
       "      <td>0.0</td>\n",
       "      <td>0.0</td>\n",
       "      <td>0.0</td>\n",
       "      <td>1.0</td>\n",
       "      <td>0.0</td>\n",
       "      <td>0</td>\n",
       "      <td>3.0</td>\n",
       "      <td>2</td>\n",
       "      <td>1</td>\n",
       "      <td>5.0</td>\n",
       "      <td>3.0</td>\n",
       "      <td>1</td>\n",
       "      <td>0.0</td>\n",
       "      <td>0</td>\n",
       "    </tr>\n",
       "    <tr>\n",
       "      <th>4</th>\n",
       "      <td>0.0</td>\n",
       "      <td>0.0</td>\n",
       "      <td>0.0</td>\n",
       "      <td>0.0</td>\n",
       "      <td>0.0</td>\n",
       "      <td>0.0</td>\n",
       "      <td>0.0</td>\n",
       "      <td>0.0</td>\n",
       "      <td>1.0</td>\n",
       "      <td>0.0</td>\n",
       "      <td>0</td>\n",
       "      <td>1.0</td>\n",
       "      <td>4</td>\n",
       "      <td>2</td>\n",
       "      <td>5.0</td>\n",
       "      <td>4.0</td>\n",
       "      <td>0</td>\n",
       "      <td>0.0</td>\n",
       "      <td>0</td>\n",
       "    </tr>\n",
       "    <tr>\n",
       "      <th>...</th>\n",
       "      <td>...</td>\n",
       "      <td>...</td>\n",
       "      <td>...</td>\n",
       "      <td>...</td>\n",
       "      <td>...</td>\n",
       "      <td>...</td>\n",
       "      <td>...</td>\n",
       "      <td>...</td>\n",
       "      <td>...</td>\n",
       "      <td>...</td>\n",
       "      <td>...</td>\n",
       "      <td>...</td>\n",
       "      <td>...</td>\n",
       "      <td>...</td>\n",
       "      <td>...</td>\n",
       "      <td>...</td>\n",
       "      <td>...</td>\n",
       "      <td>...</td>\n",
       "      <td>...</td>\n",
       "    </tr>\n",
       "    <tr>\n",
       "      <th>10489</th>\n",
       "      <td>0.0</td>\n",
       "      <td>0.0</td>\n",
       "      <td>1.0</td>\n",
       "      <td>0.0</td>\n",
       "      <td>0.0</td>\n",
       "      <td>0.0</td>\n",
       "      <td>0.0</td>\n",
       "      <td>0.0</td>\n",
       "      <td>0.0</td>\n",
       "      <td>0.0</td>\n",
       "      <td>0</td>\n",
       "      <td>4.0</td>\n",
       "      <td>3</td>\n",
       "      <td>1</td>\n",
       "      <td>6.0</td>\n",
       "      <td>0.0</td>\n",
       "      <td>0</td>\n",
       "      <td>0.0</td>\n",
       "      <td>1</td>\n",
       "    </tr>\n",
       "    <tr>\n",
       "      <th>10490</th>\n",
       "      <td>0.0</td>\n",
       "      <td>0.0</td>\n",
       "      <td>1.0</td>\n",
       "      <td>0.0</td>\n",
       "      <td>0.0</td>\n",
       "      <td>0.0</td>\n",
       "      <td>0.0</td>\n",
       "      <td>0.0</td>\n",
       "      <td>0.0</td>\n",
       "      <td>0.0</td>\n",
       "      <td>0</td>\n",
       "      <td>3.0</td>\n",
       "      <td>3</td>\n",
       "      <td>1</td>\n",
       "      <td>6.0</td>\n",
       "      <td>0.0</td>\n",
       "      <td>0</td>\n",
       "      <td>1.0</td>\n",
       "      <td>1</td>\n",
       "    </tr>\n",
       "    <tr>\n",
       "      <th>10491</th>\n",
       "      <td>0.0</td>\n",
       "      <td>0.0</td>\n",
       "      <td>1.0</td>\n",
       "      <td>0.0</td>\n",
       "      <td>0.0</td>\n",
       "      <td>0.0</td>\n",
       "      <td>0.0</td>\n",
       "      <td>0.0</td>\n",
       "      <td>0.0</td>\n",
       "      <td>0.0</td>\n",
       "      <td>0</td>\n",
       "      <td>4.0</td>\n",
       "      <td>4</td>\n",
       "      <td>1</td>\n",
       "      <td>8.0</td>\n",
       "      <td>4.0</td>\n",
       "      <td>0</td>\n",
       "      <td>2.0</td>\n",
       "      <td>1</td>\n",
       "    </tr>\n",
       "    <tr>\n",
       "      <th>10492</th>\n",
       "      <td>0.0</td>\n",
       "      <td>0.0</td>\n",
       "      <td>1.0</td>\n",
       "      <td>0.0</td>\n",
       "      <td>0.0</td>\n",
       "      <td>0.0</td>\n",
       "      <td>0.0</td>\n",
       "      <td>0.0</td>\n",
       "      <td>0.0</td>\n",
       "      <td>0.0</td>\n",
       "      <td>0</td>\n",
       "      <td>3.0</td>\n",
       "      <td>3</td>\n",
       "      <td>1</td>\n",
       "      <td>6.0</td>\n",
       "      <td>0.0</td>\n",
       "      <td>0</td>\n",
       "      <td>1.0</td>\n",
       "      <td>1</td>\n",
       "    </tr>\n",
       "    <tr>\n",
       "      <th>10493</th>\n",
       "      <td>0.0</td>\n",
       "      <td>0.0</td>\n",
       "      <td>1.0</td>\n",
       "      <td>0.0</td>\n",
       "      <td>0.0</td>\n",
       "      <td>0.0</td>\n",
       "      <td>0.0</td>\n",
       "      <td>0.0</td>\n",
       "      <td>0.0</td>\n",
       "      <td>0.0</td>\n",
       "      <td>0</td>\n",
       "      <td>0.0</td>\n",
       "      <td>4</td>\n",
       "      <td>1</td>\n",
       "      <td>7.0</td>\n",
       "      <td>4.0</td>\n",
       "      <td>1</td>\n",
       "      <td>1.0</td>\n",
       "      <td>1</td>\n",
       "    </tr>\n",
       "  </tbody>\n",
       "</table>\n",
       "<p>10494 rows × 19 columns</p>\n",
       "</div>"
      ],
      "text/plain": [
       "       department_0  department_1  department_2  department_3  department_4  \\\n",
       "0               0.0           0.0           0.0           0.0           0.0   \n",
       "1               0.0           0.0           1.0           0.0           0.0   \n",
       "2               0.0           0.0           1.0           0.0           0.0   \n",
       "3               0.0           0.0           0.0           0.0           0.0   \n",
       "4               0.0           0.0           0.0           0.0           0.0   \n",
       "...             ...           ...           ...           ...           ...   \n",
       "10489           0.0           0.0           1.0           0.0           0.0   \n",
       "10490           0.0           0.0           1.0           0.0           0.0   \n",
       "10491           0.0           0.0           1.0           0.0           0.0   \n",
       "10492           0.0           0.0           1.0           0.0           0.0   \n",
       "10493           0.0           0.0           1.0           0.0           0.0   \n",
       "\n",
       "       department_5  department_6  department_7  department_8  department_9  \\\n",
       "0               0.0           0.0           1.0           0.0           0.0   \n",
       "1               0.0           0.0           0.0           0.0           0.0   \n",
       "2               0.0           0.0           0.0           0.0           0.0   \n",
       "3               0.0           0.0           0.0           1.0           0.0   \n",
       "4               0.0           0.0           0.0           1.0           0.0   \n",
       "...             ...           ...           ...           ...           ...   \n",
       "10489           0.0           0.0           0.0           0.0           0.0   \n",
       "10490           0.0           0.0           0.0           0.0           0.0   \n",
       "10491           0.0           0.0           0.0           0.0           0.0   \n",
       "10492           0.0           0.0           0.0           0.0           0.0   \n",
       "10493           0.0           0.0           0.0           0.0           0.0   \n",
       "\n",
       "       promoted  review  projects  salary  tenure  satisfaction  bonus  \\\n",
       "0             0     0.0         3       0     5.0           3.0      0   \n",
       "1             0     3.0         4       2     8.0           1.0      0   \n",
       "2             0     3.0         3       2     5.0           3.0      1   \n",
       "3             0     3.0         2       1     5.0           3.0      1   \n",
       "4             0     1.0         4       2     5.0           4.0      0   \n",
       "...         ...     ...       ...     ...     ...           ...    ...   \n",
       "10489         0     4.0         3       1     6.0           0.0      0   \n",
       "10490         0     3.0         3       1     6.0           0.0      0   \n",
       "10491         0     4.0         4       1     8.0           4.0      0   \n",
       "10492         0     3.0         3       1     6.0           0.0      0   \n",
       "10493         0     0.0         4       1     7.0           4.0      1   \n",
       "\n",
       "       avg_hrs_month  left  \n",
       "0                0.0     0  \n",
       "1                2.0     0  \n",
       "2                0.0     0  \n",
       "3                0.0     0  \n",
       "4                0.0     0  \n",
       "...              ...   ...  \n",
       "10489            0.0     1  \n",
       "10490            1.0     1  \n",
       "10491            2.0     1  \n",
       "10492            1.0     1  \n",
       "10493            1.0     1  \n",
       "\n",
       "[10494 rows x 19 columns]"
      ]
     },
     "execution_count": 8,
     "metadata": {},
     "output_type": "execute_result"
    }
   ],
   "source": [
    "df = pd.read_csv(\"employee_churn_data_clearned.csv\")\n",
    "df"
   ]
  },
  {
   "cell_type": "code",
   "execution_count": 9,
   "metadata": {},
   "outputs": [],
   "source": [
    "from sklearn.model_selection import train_test_split, GridSearchCV,cross_val_score,KFold"
   ]
  },
  {
   "cell_type": "code",
   "execution_count": 10,
   "metadata": {},
   "outputs": [],
   "source": [
    "X = df.loc[:,df.columns != 'left']\n",
    "y = df['left']\n",
    "X_train ,X_test,y_train,y_test  = train_test_split(X,y,test_size=0.3,random_state=0)\n"
   ]
  },
  {
   "cell_type": "code",
   "execution_count": 11,
   "metadata": {},
   "outputs": [],
   "source": [
    "from imblearn.under_sampling import TomekLinks\n",
    "from imblearn.over_sampling import SMOTE\n",
    "\n",
    "tmk = TomekLinks(n_jobs=-1)\n",
    "X_train,y_train = tmk.fit_resample(X_train,y_train)\n",
    "smote = SMOTE(random_state=0)\n",
    "X_train,y_train = smote.fit_resample(X_train,y_train)"
   ]
  },
  {
   "cell_type": "markdown",
   "metadata": {},
   "source": [
    "# **Voting Classifier**"
   ]
  },
  {
   "cell_type": "code",
   "execution_count": 12,
   "metadata": {},
   "outputs": [],
   "source": [
    "from sklearn.ensemble import VotingClassifier\n",
    "from sklearn.neighbors import KNeighborsClassifier\n",
    "from sklearn.svm import SVC"
   ]
  },
  {
   "cell_type": "markdown",
   "metadata": {},
   "source": [
    "## **Default parameters**"
   ]
  },
  {
   "cell_type": "code",
   "execution_count": 13,
   "metadata": {},
   "outputs": [
    {
     "name": "stdout",
     "output_type": "stream",
     "text": [
      "train score :  0.8606872570889772\n",
      "test score :  0.8751984757065735\n"
     ]
    }
   ],
   "source": [
    "clf1 = KNeighborsClassifier() \n",
    "clf2 = SVC()  \n",
    "\n",
    "\n",
    "voting_clf = VotingClassifier(\n",
    "    estimators=[('SVC', clf2), ('KNeighborsClassifier', clf1)],\n",
    "    voting='hard'\n",
    "    )\n",
    "\n",
    "score = cross_val_score(voting_clf, X_train, y_train, cv=5)\n",
    "print(\"train score : \", score.mean())\n",
    "\n",
    "voting_clf.fit(X_train, y_train)\n",
    "print(\"test score : \", voting_clf.score(X_test, y_test))"
   ]
  },
  {
   "cell_type": "markdown",
   "metadata": {},
   "source": [
    "## **With hyper parameters**"
   ]
  },
  {
   "cell_type": "code",
   "execution_count": 14,
   "metadata": {},
   "outputs": [],
   "source": [
    "import warnings\n",
    "warnings.filterwarnings('ignore')"
   ]
  },
  {
   "cell_type": "code",
   "execution_count": 15,
   "metadata": {},
   "outputs": [],
   "source": [
    "grid = {\n",
    "    \"n_neighbors\": [20],\n",
    "    \"algorithm\": ['auto'],\n",
    "    \"leaf_size\": [10],\n",
    "    \"p\": [0.01, 0.1],\n",
    "}\n",
    "gcv_knb = GridSearchCV(KNeighborsClassifier(), grid)\n",
    "\n",
    "grid = {\n",
    "    \"gamma\" : [\"scale\",\"auto\"],\n",
    "}\n",
    "\n",
    "gcv_svc = GridSearchCV(SVC(),grid)"
   ]
  },
  {
   "cell_type": "code",
   "execution_count": 16,
   "metadata": {},
   "outputs": [
    {
     "name": "stdout",
     "output_type": "stream",
     "text": [
      "train score :  0.8666551985833545\n",
      "test score :  0.8755160368370911\n"
     ]
    }
   ],
   "source": [
    "voting_clf = VotingClassifier(\n",
    "    estimators=[('gcv_svc', gcv_svc), ('gcv_knb', gcv_knb)],\n",
    "    voting='hard'\n",
    "    )\n",
    "\n",
    "score = cross_val_score(voting_clf, X_train, y_train, cv=5)\n",
    "\n",
    "print(\"train score : \", score.mean())\n",
    "voting_clf.fit(X_train, y_train)\n",
    "print(\"test score : \", voting_clf.score(X_test, y_test))"
   ]
  },
  {
   "cell_type": "markdown",
   "metadata": {},
   "source": [
    "# **Stacking Classifier**"
   ]
  },
  {
   "cell_type": "code",
   "execution_count": 17,
   "metadata": {},
   "outputs": [],
   "source": [
    "from sklearn.ensemble import StackingClassifier"
   ]
  },
  {
   "cell_type": "markdown",
   "metadata": {},
   "source": [
    "## **default parameters**"
   ]
  },
  {
   "cell_type": "code",
   "execution_count": 18,
   "metadata": {},
   "outputs": [
    {
     "name": "stdout",
     "output_type": "stream",
     "text": [
      "train score :  0.8758809649748176\n",
      "test score :  0.8932994601460781\n"
     ]
    }
   ],
   "source": [
    "stack_clf = StackingClassifier(\n",
    "    estimators=[('SVC', SVC()), ('KNeighborsClassifier', KNeighborsClassifier())],\n",
    "    stack_method='predict',\n",
    "    cv=10\n",
    "    )\n",
    "\n",
    "score = cross_val_score(stack_clf, X_train, y_train, cv=5)\n",
    "\n",
    "print(\"train score : \", score.mean())\n",
    "stack_clf.fit(X_train, y_train)\n",
    "print(\"test score : \", stack_clf.score(X_test, y_test))"
   ]
  },
  {
   "cell_type": "markdown",
   "metadata": {},
   "source": [
    "## **With hyper parameter**"
   ]
  },
  {
   "cell_type": "code",
   "execution_count": 19,
   "metadata": {},
   "outputs": [],
   "source": [
    "grid = {\n",
    "    \"n_neighbors\": [20],\n",
    "    \"algorithm\": ['auto'],\n",
    "    \"leaf_size\": [10],\n",
    "    \"p\": [0.01, 0.1],\n",
    "}\n",
    "gcv_knb = GridSearchCV(KNeighborsClassifier(), grid,n_jobs=-1)\n",
    "\n",
    "grid = {\n",
    "    \"gamma\" : [\"scale\",\"auto\"],\n",
    "}\n",
    "\n",
    "gcv_svc = GridSearchCV(SVC(),grid)"
   ]
  },
  {
   "cell_type": "code",
   "execution_count": 20,
   "metadata": {},
   "outputs": [
    {
     "name": "stdout",
     "output_type": "stream",
     "text": [
      "train score :  0.8670618862543982\n",
      "test score :  0.8771038424896792\n"
     ]
    }
   ],
   "source": [
    "stack_clf = StackingClassifier(\n",
    "    estimators=[('gcv_svc', gcv_svc), ('gcv_knb', gcv_knb)],\n",
    "    stack_method='auto'\n",
    "    )\n",
    "\n",
    "score = cross_val_score(stack_clf, X_train, y_train, cv=5)\n",
    "\n",
    "print(\"train score : \", score.mean())\n",
    "stack_clf.fit(X_train, y_train)\n",
    "print(\"test score : \", stack_clf.score(X_test, y_test))"
   ]
  },
  {
   "cell_type": "markdown",
   "metadata": {},
   "source": [
    "# **Baseline** "
   ]
  },
  {
   "cell_type": "code",
   "execution_count": 21,
   "metadata": {},
   "outputs": [
    {
     "data": {
      "text/plain": [
       "0.49190219117180056"
      ]
     },
     "execution_count": 21,
     "metadata": {},
     "output_type": "execute_result"
    }
   ],
   "source": [
    "from sklearn.dummy import DummyClassifier\n",
    "dummy_clf = DummyClassifier(strategy='most_frequent')\n",
    "dummy_clf.fit(X_train, y_train)\n",
    "dummy_clf.score(X_test,y_test)\n"
   ]
  },
  {
   "cell_type": "code",
   "execution_count": 22,
   "metadata": {},
   "outputs": [
    {
     "data": {
      "text/plain": [
       "0.49190219117180056"
      ]
     },
     "execution_count": 22,
     "metadata": {},
     "output_type": "execute_result"
    }
   ],
   "source": [
    "dummy_clf = DummyClassifier(strategy='prior')\n",
    "dummy_clf.fit(X_train, y_train)\n",
    "dummy_clf.score(X_test,y_test)"
   ]
  },
  {
   "cell_type": "code",
   "execution_count": 23,
   "metadata": {},
   "outputs": [
    {
     "data": {
      "text/plain": [
       "0.5084153699587171"
      ]
     },
     "execution_count": 23,
     "metadata": {},
     "output_type": "execute_result"
    }
   ],
   "source": [
    "dummy_clf = DummyClassifier(strategy='stratified')\n",
    "dummy_clf.fit(X_train, y_train)\n",
    "dummy_clf.score(X_test,y_test)"
   ]
  },
  {
   "cell_type": "code",
   "execution_count": 24,
   "metadata": {},
   "outputs": [
    {
     "data": {
      "text/plain": [
       "0.4922197523023182"
      ]
     },
     "execution_count": 24,
     "metadata": {},
     "output_type": "execute_result"
    }
   ],
   "source": [
    "dummy_clf = DummyClassifier(strategy='uniform')\n",
    "dummy_clf.fit(X_train, y_train)\n",
    "dummy_clf.score(X_test,y_test)"
   ]
  },
  {
   "cell_type": "code",
   "execution_count": 25,
   "metadata": {},
   "outputs": [
    {
     "name": "stdout",
     "output_type": "stream",
     "text": [
      "Requirement already satisfied: nbconvert in c:\\witchaz\\coding\\mini-project\\venv\\lib\\site-packages (7.14.2)\n",
      "Requirement already satisfied: beautifulsoup4 in c:\\witchaz\\coding\\mini-project\\venv\\lib\\site-packages (from nbconvert) (4.12.3)\n",
      "Requirement already satisfied: bleach!=5.0.0 in c:\\witchaz\\coding\\mini-project\\venv\\lib\\site-packages (from nbconvert) (6.1.0)\n",
      "Requirement already satisfied: defusedxml in c:\\witchaz\\coding\\mini-project\\venv\\lib\\site-packages (from nbconvert) (0.7.1)\n",
      "Requirement already satisfied: jinja2>=3.0 in c:\\witchaz\\coding\\mini-project\\venv\\lib\\site-packages (from nbconvert) (3.1.3)\n",
      "Requirement already satisfied: jupyter-core>=4.7 in c:\\witchaz\\coding\\mini-project\\venv\\lib\\site-packages (from nbconvert) (5.5.0)\n",
      "Requirement already satisfied: jupyterlab-pygments in c:\\witchaz\\coding\\mini-project\\venv\\lib\\site-packages (from nbconvert) (0.3.0)\n",
      "Requirement already satisfied: markupsafe>=2.0 in c:\\witchaz\\coding\\mini-project\\venv\\lib\\site-packages (from nbconvert) (2.1.4)\n",
      "Requirement already satisfied: mistune<4,>=2.0.3 in c:\\witchaz\\coding\\mini-project\\venv\\lib\\site-packages (from nbconvert) (3.0.2)\n",
      "Requirement already satisfied: nbclient>=0.5.0 in c:\\witchaz\\coding\\mini-project\\venv\\lib\\site-packages (from nbconvert) (0.9.0)\n",
      "Requirement already satisfied: nbformat>=5.7 in c:\\witchaz\\coding\\mini-project\\venv\\lib\\site-packages (from nbconvert) (5.9.2)\n",
      "Requirement already satisfied: packaging in c:\\witchaz\\coding\\mini-project\\venv\\lib\\site-packages (from nbconvert) (23.2)\n",
      "Requirement already satisfied: pandocfilters>=1.4.1 in c:\\witchaz\\coding\\mini-project\\venv\\lib\\site-packages (from nbconvert) (1.5.1)\n",
      "Requirement already satisfied: pygments>=2.4.1 in c:\\witchaz\\coding\\mini-project\\venv\\lib\\site-packages (from nbconvert) (2.17.2)\n",
      "Requirement already satisfied: tinycss2 in c:\\witchaz\\coding\\mini-project\\venv\\lib\\site-packages (from nbconvert) (1.2.1)\n",
      "Requirement already satisfied: traitlets>=5.1 in c:\\witchaz\\coding\\mini-project\\venv\\lib\\site-packages (from nbconvert) (5.14.0)\n",
      "Requirement already satisfied: six>=1.9.0 in c:\\witchaz\\coding\\mini-project\\venv\\lib\\site-packages (from bleach!=5.0.0->nbconvert) (1.16.0)\n",
      "Requirement already satisfied: webencodings in c:\\witchaz\\coding\\mini-project\\venv\\lib\\site-packages (from bleach!=5.0.0->nbconvert) (0.5.1)\n",
      "Requirement already satisfied: platformdirs>=2.5 in c:\\witchaz\\coding\\mini-project\\venv\\lib\\site-packages (from jupyter-core>=4.7->nbconvert) (4.1.0)\n",
      "Requirement already satisfied: pywin32>=300 in c:\\witchaz\\coding\\mini-project\\venv\\lib\\site-packages (from jupyter-core>=4.7->nbconvert) (306)\n",
      "Requirement already satisfied: jupyter-client>=6.1.12 in c:\\witchaz\\coding\\mini-project\\venv\\lib\\site-packages (from nbclient>=0.5.0->nbconvert) (8.6.0)\n",
      "Requirement already satisfied: fastjsonschema in c:\\witchaz\\coding\\mini-project\\venv\\lib\\site-packages (from nbformat>=5.7->nbconvert) (2.19.1)\n",
      "Requirement already satisfied: jsonschema>=2.6 in c:\\witchaz\\coding\\mini-project\\venv\\lib\\site-packages (from nbformat>=5.7->nbconvert) (4.21.1)\n",
      "Requirement already satisfied: soupsieve>1.2 in c:\\witchaz\\coding\\mini-project\\venv\\lib\\site-packages (from beautifulsoup4->nbconvert) (2.5)\n",
      "Requirement already satisfied: attrs>=22.2.0 in c:\\witchaz\\coding\\mini-project\\venv\\lib\\site-packages (from jsonschema>=2.6->nbformat>=5.7->nbconvert) (23.2.0)\n",
      "Requirement already satisfied: jsonschema-specifications>=2023.03.6 in c:\\witchaz\\coding\\mini-project\\venv\\lib\\site-packages (from jsonschema>=2.6->nbformat>=5.7->nbconvert) (2023.12.1)\n",
      "Requirement already satisfied: referencing>=0.28.4 in c:\\witchaz\\coding\\mini-project\\venv\\lib\\site-packages (from jsonschema>=2.6->nbformat>=5.7->nbconvert) (0.32.1)\n",
      "Requirement already satisfied: rpds-py>=0.7.1 in c:\\witchaz\\coding\\mini-project\\venv\\lib\\site-packages (from jsonschema>=2.6->nbformat>=5.7->nbconvert) (0.17.1)\n",
      "Requirement already satisfied: python-dateutil>=2.8.2 in c:\\witchaz\\coding\\mini-project\\venv\\lib\\site-packages (from jupyter-client>=6.1.12->nbclient>=0.5.0->nbconvert) (2.8.2)\n",
      "Requirement already satisfied: pyzmq>=23.0 in c:\\witchaz\\coding\\mini-project\\venv\\lib\\site-packages (from jupyter-client>=6.1.12->nbclient>=0.5.0->nbconvert) (25.1.2)\n",
      "Requirement already satisfied: tornado>=6.2 in c:\\witchaz\\coding\\mini-project\\venv\\lib\\site-packages (from jupyter-client>=6.1.12->nbclient>=0.5.0->nbconvert) (6.4)\n",
      "Note: you may need to restart the kernel to use updated packages.\n"
     ]
    },
    {
     "name": "stderr",
     "output_type": "stream",
     "text": [
      "\n",
      "[notice] A new release of pip is available: 23.3.1 -> 24.0\n",
      "[notice] To update, run: python.exe -m pip install --upgrade pip\n"
     ]
    }
   ],
   "source": [
    "%pip install nbconvert"
   ]
  }
 ],
 "metadata": {
  "kernelspec": {
   "display_name": ".venv",
   "language": "python",
   "name": "python3"
  },
  "language_info": {
   "codemirror_mode": {
    "name": "ipython",
    "version": 3
   },
   "file_extension": ".py",
   "mimetype": "text/x-python",
   "name": "python",
   "nbconvert_exporter": "python",
   "pygments_lexer": "ipython3",
   "version": "3.12.1"
  }
 },
 "nbformat": 4,
 "nbformat_minor": 2
}
